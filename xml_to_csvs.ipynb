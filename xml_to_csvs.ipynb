{
 "cells": [
  {
   "cell_type": "markdown",
   "metadata": {},
   "source": [
    "# To Do list:\n",
    "\n",
    "* [x] get medical question-answer pair dataset\n",
    "* [x] remove unecesary data \n",
    "* [x] save that data in an easy to acess format\n",
    "* [] wright a one liner function to get a random question and answer"
   ]
  },
  {
   "cell_type": "code",
   "execution_count": 2,
   "metadata": {},
   "outputs": [],
   "source": [
    "#importing necessary modules\n",
    "import pandas as pd\n",
    "import xml.etree.ElementTree as ET\n",
    "import os"
   ]
  },
  {
   "cell_type": "markdown",
   "metadata": {},
   "source": [
    "eddited formatting of 'medical question answer pairs/MedQuAD-CSVs/6_NINDS_QA\\\\0000007.xml' to make parsing easier\n",
    "\n",
    "eddited formatting of 'medical question answer pairs/MedQuAD-CSVs/6_NINDS_QA\\\\0000018.xml' to make parsing easier\n",
    "\n",
    "eddited formatting of 'medical question answer pairs/MedQuAD-CSVs/6_NINDS_QA\\\\0000182.xml' to make parsing easier\n",
    "\n",
    "eddited formatting of 'medical question answer pairs/MedQuAD-CSVs/6_NINDS_QA\\\\0000244.xml' to make parsing easier"
   ]
  },
  {
   "cell_type": "code",
   "execution_count": 3,
   "metadata": {},
   "outputs": [],
   "source": [
    "#defining a function that makes a dict out of the data I want from an xml file\n",
    "def dictFromXML(filename):\n",
    "    \n",
    "    QAdata = {'question': [], 'question_id' : [], 'question_type' : [], 'answer' : []}\n",
    "\n",
    "    #annotations are purposely not returned as they would add uneccesary complexity and are not useful for my project \n",
    "    annotations = {'focus' : '', 'id' : '', 'source' : '', 'url' : '', 'cui' : '', 'semandticType': '', 'semanicGroup': ''}\n",
    "    #annotations are purposely not returned as they would add uneccesary complexity and are not useful for my project\n",
    "\n",
    "    try:\n",
    "        tree = ET.parse(filename)\n",
    "    except ET.ParseError as e:\n",
    "        print(f\"XML parsing error: {e}\")\n",
    "    except FileNotFoundError:\n",
    "        print(\"File not found\")\n",
    "    except Exception as e:\n",
    "        print(f\"An error occurred: {e}\")\n",
    "\n",
    "    #getting the emementree root\n",
    "\n",
    "    root = tree.getroot() \n",
    "\n",
    "    #getting annotations\n",
    "    #annotations are purposely not returned as they would add uneccesary complexity and are not useful for my project\n",
    "\n",
    "    '''\n",
    "    try:\n",
    "        annotations['focus'] = root.find('Focus').text\n",
    "        annotations['id'] = root.get(\"id\")\n",
    "        annotations['source'] = root.get('source')\n",
    "        annotations['url'] = root.get('url')\n",
    "        annotations['cui'] = root.find('FocusAnnotations').find('UMLS').find('CUIs').find('CUI').text\n",
    "        annotations['semanticType'] = root.find('FocusAnnotations').find('UMLS').find('SemanticTypes').find('SemanticType').text\n",
    "        annotations['semanicGroup'] = root.find('FocusAnnotations').find('UMLS').find('SemanticGroup').text\n",
    "    except:\n",
    "        print('annotation error')\n",
    "    '''\n",
    "    #annotations are purposely not returned as they would add uneccesary complexity and are not useful for my project\n",
    "    #getting annotations\n",
    "\n",
    "\n",
    "    #getting indfo from QAPair\n",
    "\n",
    "    #handling incorrect formatting by printing an error message at that formatting issue then moving on\n",
    "    try:\n",
    "        qaPairs = root.find('QAPairs').findall('QAPair')\n",
    "    except:\n",
    "        print(f\"QA pair error at:{filename}\")\n",
    "        return\n",
    "\n",
    "    for i in qaPairs:\n",
    "        QAdata['question'].append(i.find('Question').text) \n",
    "        QAdata['question_id'].append(i.find('Question').get('qid'))\n",
    "        QAdata['question_type'].append(i.find('Question').get('qtype'))\n",
    "        QAdata['answer'].append(i.find('Answer').text)\n",
    "\n",
    "    #getting info from  QAPair\n",
    "\n",
    "    #returning the data as a dict\n",
    "    return QAdata"
   ]
  },
  {
   "cell_type": "code",
   "execution_count": 4,
   "metadata": {},
   "outputs": [],
   "source": [
    "\n",
    "#defining a function that converts a whole folder of xmls to dataframes and combines them\n",
    "def XMLsToDataFrame(directory):\n",
    "    df = pd.DataFrame()\n",
    "    dataframes = []\n",
    "\n",
    "    for filename in os.listdir(directory):\n",
    "        if filename.endswith('.xml'):\n",
    "            with open(os.path.join(directory, filename)) as f:\n",
    "                data = dictFromXML(f)\n",
    "                dataframes.append(pd.DataFrame(data))\n",
    "\n",
    "    try: \n",
    "        df = pd.concat(dataframes)\n",
    "    except:\n",
    "        print(\"could not concat\")\n",
    "    return df"
   ]
  },
  {
   "cell_type": "code",
   "execution_count": 14,
   "metadata": {},
   "outputs": [
    {
     "name": "stdout",
     "output_type": "stream",
     "text": [
      "['10_MPlus_ADAM_QA', '11_MPlusDrugs_QA', '12_MPlusHerbsSupplements_QA', '1_CancerGov_QA', '2_GARD_QA', '3_GHR_QA', '4_MPlus_Health_Topics_QA', '5_NIDDK_QA', '6_NINDS_QA', '7_SeniorHealth_QA', '8_NHLBI_QA_XML', '9_CDC_QA']\n",
      "10_MPlus_ADAM_QA\n",
      "11_MPlusDrugs_QA\n",
      "12_MPlusHerbsSupplements_QA\n",
      "1_CancerGov_QA\n",
      "2_GARD_QA\n",
      "3_GHR_QA\n",
      "4_MPlus_Health_Topics_QA\n",
      "5_NIDDK_QA\n",
      "6_NINDS_QA\n",
      "7_SeniorHealth_QA\n",
      "8_NHLBI_QA_XML\n",
      "9_CDC_QA\n"
     ]
    },
    {
     "data": {
      "text/plain": [
       "\"\\nQA pair error at:<_io.TextIOWrapper name='_data_as_xmls/6_NINDS_QA\\\\0000018.xml' mode='r' encoding='utf-8'>\\nQA pair error at:<_io.TextIOWrapper name='_data_as_xmls/6_NINDS_QA\\\\0000182.xml' mode='r' encoding='utf-8'>\\nQA pair error at:<_io.TextIOWrapper name='_data_as_xmls/6_NINDS_QA\\\\0000244.xml' mode='r' encoding='utf-8'>\\n\""
      ]
     },
     "execution_count": 14,
     "metadata": {},
     "output_type": "execute_result"
    }
   ],
   "source": [
    "\n",
    "directory = '_data_as_xmls'\n",
    "\n",
    "print(os.listdir(directory))\n",
    "for i in os.listdir(directory):\n",
    "    print(i)\n",
    "    try:\n",
    "        df = XMLsToDataFrame(f'{directory}/{i}')\n",
    "        df.to_csv(f'_data_as_csvs/{i}.csv')\n",
    "    except:\n",
    "        print('could not execute function')\n",
    "\n",
    "'''\n",
    "QA pair error at:<_io.TextIOWrapper name='_data_as_xmls/6_NINDS_QA\\\\0000018.xml' mode='r' encoding='utf-8'>\n",
    "QA pair error at:<_io.TextIOWrapper name='_data_as_xmls/6_NINDS_QA\\\\0000182.xml' mode='r' encoding='utf-8'>\n",
    "QA pair error at:<_io.TextIOWrapper name='_data_as_xmls/6_NINDS_QA\\\\0000244.xml' mode='r' encoding='utf-8'>\n",
    "'''\n"
   ]
  }
 ],
 "metadata": {
  "kernelspec": {
   "display_name": "base",
   "language": "python",
   "name": "python3"
  },
  "language_info": {
   "codemirror_mode": {
    "name": "ipython",
    "version": 3
   },
   "file_extension": ".py",
   "mimetype": "text/x-python",
   "name": "python",
   "nbconvert_exporter": "python",
   "pygments_lexer": "ipython3",
   "version": "3.11.4"
  }
 },
 "nbformat": 4,
 "nbformat_minor": 2
}
